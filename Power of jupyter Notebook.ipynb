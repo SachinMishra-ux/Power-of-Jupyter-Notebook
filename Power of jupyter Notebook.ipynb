{
 "cells": [
  {
   "cell_type": "markdown",
   "metadata": {},
   "source": [
    "# This is Just a basic tutorial which shows that **what kind of stuff jupyter notebook can do**"
   ]
  },
  {
   "cell_type": "markdown",
   "metadata": {},
   "source": [
    "\n",
    "<img src=\"https://static.scientificamerican.com/sciam/cache/file/ACF0A7DC-14E3-4263-93F438F6DA8CE98A_source.jpg\" style= \"width:400px;height:80px;>\n",
    "# <font color='red'> Panda Image</font>\n",
    "                                                                                                                         "
   ]
  },
  {
   "cell_type": "code",
   "execution_count": 13,
   "metadata": {},
   "outputs": [
    {
     "data": {
      "text/html": [
       "<iframe width=\"560\" height=\"315\" src=\"https://www.youtube.com/embed/3D7gwng69aw\" title=\"YouTube video player\" frameborder=\"1\" allow=\"accelerometer; autoplay; clipboard-write; encrypted-media; gyroscope; picture-in-picture\" allowfullscreen></iframe>\n"
      ],
      "text/plain": [
       "<IPython.core.display.HTML object>"
      ]
     },
     "metadata": {},
     "output_type": "display_data"
    }
   ],
   "source": [
    "%%HTML\n",
    "<iframe width=\"560\" height=\"315\" src=\"https://www.youtube.com/embed/3D7gwng69aw\" title=\"YouTube video player\" frameborder=\"1\" allow=\"accelerometer; autoplay; clipboard-write; encrypted-media; gyroscope; picture-in-picture\" allowfullscreen></iframe>"
   ]
  },
  {
   "cell_type": "code",
   "execution_count": 15,
   "metadata": {},
   "outputs": [],
   "source": [
    "import pandas as pd\n",
    "import numpy as np\n",
    "import matplotlib.pyplot as plt\n",
    "plt.style.use('bmh')\n",
    "from sklearn.linear_model import LinearRegression # Scikit learn library to use linear model\n",
    "from sklearn.tree import DecisionTreeRegressor\n",
    "from sklearn.model_selection import train_test_split"
   ]
  },
  {
   "cell_type": "code",
   "execution_count": 16,
   "metadata": {},
   "outputs": [
    {
     "data": {
      "text/html": [
       "<div>\n",
       "<style scoped>\n",
       "    .dataframe tbody tr th:only-of-type {\n",
       "        vertical-align: middle;\n",
       "    }\n",
       "\n",
       "    .dataframe tbody tr th {\n",
       "        vertical-align: top;\n",
       "    }\n",
       "\n",
       "    .dataframe thead th {\n",
       "        text-align: right;\n",
       "    }\n",
       "</style>\n",
       "<table border=\"1\" class=\"dataframe\">\n",
       "  <thead>\n",
       "    <tr style=\"text-align: right;\">\n",
       "      <th></th>\n",
       "      <th>Date</th>\n",
       "      <th>Date1</th>\n",
       "      <th>Close Price</th>\n",
       "      <th>Average Price</th>\n",
       "    </tr>\n",
       "  </thead>\n",
       "  <tbody>\n",
       "    <tr>\n",
       "      <th>468</th>\n",
       "      <td>17-Mar-21</td>\n",
       "      <td>469</td>\n",
       "      <td>15.10</td>\n",
       "      <td>15.18</td>\n",
       "    </tr>\n",
       "    <tr>\n",
       "      <th>469</th>\n",
       "      <td>18-Mar-21</td>\n",
       "      <td>470</td>\n",
       "      <td>14.90</td>\n",
       "      <td>15.00</td>\n",
       "    </tr>\n",
       "    <tr>\n",
       "      <th>470</th>\n",
       "      <td>19-Mar-21</td>\n",
       "      <td>471</td>\n",
       "      <td>14.95</td>\n",
       "      <td>14.65</td>\n",
       "    </tr>\n",
       "    <tr>\n",
       "      <th>471</th>\n",
       "      <td>22-Mar-21</td>\n",
       "      <td>472</td>\n",
       "      <td>14.85</td>\n",
       "      <td>14.91</td>\n",
       "    </tr>\n",
       "    <tr>\n",
       "      <th>472</th>\n",
       "      <td>23-Mar-21</td>\n",
       "      <td>473</td>\n",
       "      <td>14.90</td>\n",
       "      <td>14.90</td>\n",
       "    </tr>\n",
       "    <tr>\n",
       "      <th>473</th>\n",
       "      <td>24-Mar-21</td>\n",
       "      <td>474</td>\n",
       "      <td>14.65</td>\n",
       "      <td>14.77</td>\n",
       "    </tr>\n",
       "    <tr>\n",
       "      <th>474</th>\n",
       "      <td>25-Mar-21</td>\n",
       "      <td>475</td>\n",
       "      <td>14.20</td>\n",
       "      <td>14.26</td>\n",
       "    </tr>\n",
       "    <tr>\n",
       "      <th>475</th>\n",
       "      <td>26-Mar-21</td>\n",
       "      <td>476</td>\n",
       "      <td>14.05</td>\n",
       "      <td>14.25</td>\n",
       "    </tr>\n",
       "    <tr>\n",
       "      <th>476</th>\n",
       "      <td>30-Mar-21</td>\n",
       "      <td>477</td>\n",
       "      <td>16.30</td>\n",
       "      <td>15.87</td>\n",
       "    </tr>\n",
       "    <tr>\n",
       "      <th>477</th>\n",
       "      <td>31-Mar-21</td>\n",
       "      <td>478</td>\n",
       "      <td>15.60</td>\n",
       "      <td>15.82</td>\n",
       "    </tr>\n",
       "    <tr>\n",
       "      <th>478</th>\n",
       "      <td>01-Apr-21</td>\n",
       "      <td>479</td>\n",
       "      <td>15.70</td>\n",
       "      <td>15.64</td>\n",
       "    </tr>\n",
       "    <tr>\n",
       "      <th>479</th>\n",
       "      <td>05-Apr-21</td>\n",
       "      <td>480</td>\n",
       "      <td>15.50</td>\n",
       "      <td>15.54</td>\n",
       "    </tr>\n",
       "    <tr>\n",
       "      <th>480</th>\n",
       "      <td>06-Apr-21</td>\n",
       "      <td>481</td>\n",
       "      <td>15.60</td>\n",
       "      <td>15.65</td>\n",
       "    </tr>\n",
       "    <tr>\n",
       "      <th>481</th>\n",
       "      <td>07-Apr-21</td>\n",
       "      <td>482</td>\n",
       "      <td>15.60</td>\n",
       "      <td>15.59</td>\n",
       "    </tr>\n",
       "    <tr>\n",
       "      <th>482</th>\n",
       "      <td>08-Apr-21</td>\n",
       "      <td>483</td>\n",
       "      <td>15.55</td>\n",
       "      <td>15.60</td>\n",
       "    </tr>\n",
       "    <tr>\n",
       "      <th>483</th>\n",
       "      <td>09-Apr-21</td>\n",
       "      <td>484</td>\n",
       "      <td>15.45</td>\n",
       "      <td>15.52</td>\n",
       "    </tr>\n",
       "    <tr>\n",
       "      <th>484</th>\n",
       "      <td>12-Apr-21</td>\n",
       "      <td>485</td>\n",
       "      <td>14.45</td>\n",
       "      <td>14.67</td>\n",
       "    </tr>\n",
       "    <tr>\n",
       "      <th>485</th>\n",
       "      <td>13-Apr-21</td>\n",
       "      <td>486</td>\n",
       "      <td>14.70</td>\n",
       "      <td>14.59</td>\n",
       "    </tr>\n",
       "    <tr>\n",
       "      <th>486</th>\n",
       "      <td>15-Apr-21</td>\n",
       "      <td>487</td>\n",
       "      <td>14.55</td>\n",
       "      <td>14.50</td>\n",
       "    </tr>\n",
       "    <tr>\n",
       "      <th>487</th>\n",
       "      <td>16-Apr-21</td>\n",
       "      <td>488</td>\n",
       "      <td>14.60</td>\n",
       "      <td>14.63</td>\n",
       "    </tr>\n",
       "    <tr>\n",
       "      <th>488</th>\n",
       "      <td>19-Apr-21</td>\n",
       "      <td>489</td>\n",
       "      <td>14.20</td>\n",
       "      <td>14.17</td>\n",
       "    </tr>\n",
       "    <tr>\n",
       "      <th>489</th>\n",
       "      <td>20-Apr-21</td>\n",
       "      <td>490</td>\n",
       "      <td>14.05</td>\n",
       "      <td>14.15</td>\n",
       "    </tr>\n",
       "    <tr>\n",
       "      <th>490</th>\n",
       "      <td>22-Apr-21</td>\n",
       "      <td>491</td>\n",
       "      <td>14.05</td>\n",
       "      <td>14.07</td>\n",
       "    </tr>\n",
       "    <tr>\n",
       "      <th>491</th>\n",
       "      <td>23-Apr-21</td>\n",
       "      <td>492</td>\n",
       "      <td>14.00</td>\n",
       "      <td>14.04</td>\n",
       "    </tr>\n",
       "    <tr>\n",
       "      <th>492</th>\n",
       "      <td>26-Apr-21</td>\n",
       "      <td>493</td>\n",
       "      <td>14.05</td>\n",
       "      <td>14.10</td>\n",
       "    </tr>\n",
       "  </tbody>\n",
       "</table>\n",
       "</div>"
      ],
      "text/plain": [
       "          Date  Date1  Close Price  Average Price\n",
       "468  17-Mar-21    469        15.10          15.18\n",
       "469  18-Mar-21    470        14.90          15.00\n",
       "470  19-Mar-21    471        14.95          14.65\n",
       "471  22-Mar-21    472        14.85          14.91\n",
       "472  23-Mar-21    473        14.90          14.90\n",
       "473  24-Mar-21    474        14.65          14.77\n",
       "474  25-Mar-21    475        14.20          14.26\n",
       "475  26-Mar-21    476        14.05          14.25\n",
       "476  30-Mar-21    477        16.30          15.87\n",
       "477  31-Mar-21    478        15.60          15.82\n",
       "478  01-Apr-21    479        15.70          15.64\n",
       "479  05-Apr-21    480        15.50          15.54\n",
       "480  06-Apr-21    481        15.60          15.65\n",
       "481  07-Apr-21    482        15.60          15.59\n",
       "482  08-Apr-21    483        15.55          15.60\n",
       "483  09-Apr-21    484        15.45          15.52\n",
       "484  12-Apr-21    485        14.45          14.67\n",
       "485  13-Apr-21    486        14.70          14.59\n",
       "486  15-Apr-21    487        14.55          14.50\n",
       "487  16-Apr-21    488        14.60          14.63\n",
       "488  19-Apr-21    489        14.20          14.17\n",
       "489  20-Apr-21    490        14.05          14.15\n",
       "490  22-Apr-21    491        14.05          14.07\n",
       "491  23-Apr-21    492        14.00          14.04\n",
       "492  26-Apr-21    493        14.05          14.10"
      ]
     },
     "execution_count": 16,
     "metadata": {},
     "output_type": "execute_result"
    }
   ],
   "source": [
    "df=pd.read_csv(\"Yesbank.csv\")\n",
    "df.tail(25)"
   ]
  },
  {
   "cell_type": "code",
   "execution_count": 17,
   "metadata": {},
   "outputs": [
    {
     "data": {
      "text/plain": [
       "[<matplotlib.lines.Line2D at 0x26d4529ceb0>]"
      ]
     },
     "execution_count": 17,
     "metadata": {},
     "output_type": "execute_result"
    },
    {
     "data": {
      "image/png": "[encoded data removed]",
      "text/plain": [
       "<Figure size 1152x576 with 1 Axes>"
      ]
     },
     "metadata": {
      "needs_background": "light"
     },
     "output_type": "display_data"
    }
   ],
   "source": [
    "plt.figure(figsize=(16,8))\n",
    "plt.title('YesBank')\n",
    "plt.xlabel('Days')\n",
    "plt.ylabel('Close Price(INR)')\n",
    "plt.plot(df[['Close Price']],color='red')"
   ]
  },
  {
   "cell_type": "code",
   "execution_count": null,
   "metadata": {},
   "outputs": [],
   "source": []
  }
 ],
 "metadata": {
  "kernelspec": {
   "display_name": "Python 3",
   "language": "python",
   "name": "python3"
  },
  "language_info": {
   "codemirror_mode": {
    "name": "ipython",
    "version": 3
   },
   "file_extension": ".py",
   "mimetype": "text/x-python",
   "name": "python",
   "nbconvert_exporter": "python",
   "pygments_lexer": "ipython3",
   "version": "3.8.5"
  }
 },
 "nbformat": 4,
 "nbformat_minor": 4
}
